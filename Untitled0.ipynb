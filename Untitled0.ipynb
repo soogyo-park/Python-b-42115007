{
  "nbformat": 4,
  "nbformat_minor": 0,
  "metadata": {
    "colab": {
      "provenance": [],
      "toc_visible": true,
      "authorship_tag": "ABX9TyPREBLv/HY7XcJJgy0pO+ZM",
      "include_colab_link": true
    },
    "kernelspec": {
      "name": "python3",
      "display_name": "Python 3"
    },
    "language_info": {
      "name": "python"
    }
  },
  "cells": [
    {
      "cell_type": "markdown",
      "metadata": {
        "id": "view-in-github",
        "colab_type": "text"
      },
      "source": [
        "<a href=\"https://colab.research.google.com/github/soogyo-park/Python-b-42115007/blob/main/Untitled0.ipynb\" target=\"_parent\"><img src=\"https://colab.research.google.com/assets/colab-badge.svg\" alt=\"Open In Colab\"/></a>"
      ]
    },
    {
      "cell_type": "markdown",
      "source": [
        "# CH1 파이썬 문법"
      ],
      "metadata": {
        "id": "fWEEZHzDiDjY"
      }
    },
    {
      "cell_type": "markdown",
      "source": [
        "## 자료형\n",
        "#### 숫자형\n",
        "정수 : 123,-20,0  \n",
        "실수 : 123.45, =4321.5, 6.08e9  \n",
        "8잔수 : 0o456, 0o123  \n",
        "16진수 : 0xff, 0x00, 0x0a\n"
      ],
      "metadata": {
        "id": "cBQuIzwDiVVI"
      }
    },
    {
      "cell_type": "code",
      "source": [
        "a=10\n",
        "b=20\n",
        "c=a+b\n",
        "print(c)"
      ],
      "metadata": {
        "colab": {
          "base_uri": "https://localhost:8080/"
        },
        "id": "0ptUucY8iNkR",
        "outputId": "04528072-b9e2-4e95-f1b4-1da1931aa54c"
      },
      "execution_count": null,
      "outputs": [
        {
          "output_type": "stream",
          "name": "stdout",
          "text": [
            "30\n"
          ]
        }
      ]
    },
    {
      "cell_type": "code",
      "source": [
        "\n",
        "a=10\n",
        "b=5\n",
        "c=a-b #뺄샘\n",
        "d=a/b #나눗샘\n",
        "e=a*b #곱샘\n",
        "f=a//b #몫\n",
        "g=a%b #나머지\n",
        "h=a**b #제곱\n",
        "print(c,d,e,f,g,h)"
      ],
      "metadata": {
        "colab": {
          "base_uri": "https://localhost:8080/"
        },
        "id": "7WYXEXoKktUR",
        "outputId": "19383476-35b8-42da-aa75-32e852650caa"
      },
      "execution_count": null,
      "outputs": [
        {
          "output_type": "stream",
          "name": "stdout",
          "text": [
            "5 2.0 50 2 0 100000\n"
          ]
        }
      ]
    },
    {
      "cell_type": "markdown",
      "source": [
        "####문자열\n",
        "1. 큰 따옴표 \"hello World it\\'s\"  \n",
        "2. 작은 따옴표 '대한민국'   \n",
        "3. 큰 따옴표 3 \"\"\"hello!\"\"\"  \n",
        "4. 작은 따옴표 3 '''life is too short, You need python'''"
      ],
      "metadata": {
        "id": "rmuyEoJdm5fX"
      }
    },
    {
      "cell_type": "markdown",
      "source": [
        "#### 변수\n",
        "* 문자 또는 밑줄로 시작( beta._kim)\n",
        "* 대소문자를 구분한다.(sum, Sum, SUM)  \n",
        "* 영문자, 숫자, 밑줄(A to z,0-9,_)  \n",
        "* 파이썬 키워드는 사용 불가."
      ],
      "metadata": {
        "id": "Hf5UGBE0oV9u"
      }
    },
    {
      "cell_type": "code",
      "source": [
        "myName=\"soo gyo park\"#카멜\n",
        "my_name=\"박수교\" #스네이크\n",
        "MyName=\"kiki\"#파스칼\n",
        "_my_name=\"korea\"\n",
        "MYNAME=\"doowon\"\n",
        "my2name=\"42115007b\"\n",
        "mystr='123' #str\n",
        "myNum=123 #int\n",
        "\n",
        "print(mystr, myNum)\n",
        "print(type(mystr))\n",
        "print(type(myNum))"
      ],
      "metadata": {
        "colab": {
          "base_uri": "https://localhost:8080/"
        },
        "id": "VfWtUltlm8Z2",
        "outputId": "a6da740b-d2c6-456e-d0c3-4db36691e527"
      },
      "execution_count": null,
      "outputs": [
        {
          "output_type": "stream",
          "name": "stdout",
          "text": [
            "123 123\n",
            "<class 'str'>\n",
            "<class 'int'>\n"
          ]
        }
      ]
    },
    {
      "cell_type": "markdown",
      "source": [
        "#### 여러개 변수 할당"
      ],
      "metadata": {
        "id": "159iFxH8wNGU"
      }
    },
    {
      "cell_type": "code",
      "source": [
        "x,y,z=\"포도\",\"딸기\",\"키위\"\n",
        "print(x)\n",
        "print(y)\n",
        "print(z)"
      ],
      "metadata": {
        "colab": {
          "base_uri": "https://localhost:8080/"
        },
        "id": "5ed2WKc1wP5T",
        "outputId": "404dd119-c010-467e-c167-cb2201ab87c6"
      },
      "execution_count": null,
      "outputs": [
        {
          "output_type": "stream",
          "name": "stdout",
          "text": [
            "포도\n",
            "딸기\n",
            "키위\n"
          ]
        }
      ]
    },
    {
      "cell_type": "code",
      "source": [
        "a=b=c=\"오렌지\"\n",
        "print(a)\n",
        "print(b)\n",
        "print(c)"
      ],
      "metadata": {
        "colab": {
          "base_uri": "https://localhost:8080/"
        },
        "id": "r7gdI2G5watD",
        "outputId": "2bcb903c-feb8-45ab-c290-12e4ba33b2f1"
      },
      "execution_count": null,
      "outputs": [
        {
          "output_type": "stream",
          "name": "stdout",
          "text": [
            "오렌지\n",
            "오렌지\n",
            "오렌지\n"
          ]
        }
      ]
    },
    {
      "cell_type": "code",
      "source": [
        "fruits=[\"포도\",\"딸기\",\"키위\"]\n",
        "x,y,z=fruits\n",
        "\n",
        "print(x)\n",
        "print(y)\n",
        "print(z)"
      ],
      "metadata": {
        "colab": {
          "base_uri": "https://localhost:8080/"
        },
        "id": "cTmQnUa5w-lS",
        "outputId": "93aa254e-0bd2-478f-8e38-083848a36098"
      },
      "execution_count": null,
      "outputs": [
        {
          "output_type": "stream",
          "name": "stdout",
          "text": [
            "포도\n",
            "딸기\n",
            "키위\n"
          ]
        }
      ]
    },
    {
      "cell_type": "code",
      "source": [
        "x=\"life\"\n",
        "y=\"is\"\n",
        "z=\"beutiful\"\n",
        "\n",
        "print(x, y, z)\n",
        "print(x+y+z)"
      ],
      "metadata": {
        "colab": {
          "base_uri": "https://localhost:8080/"
        },
        "id": "EEbo8RMbxpAT",
        "outputId": "e929a8a5-4af2-4e1e-efb5-8df8fd91b7f5"
      },
      "execution_count": null,
      "outputs": [
        {
          "output_type": "stream",
          "name": "stdout",
          "text": [
            "life is beutiful\n",
            "lifeisbeutiful\n"
          ]
        }
      ]
    },
    {
      "cell_type": "code",
      "source": [
        "a=1\n",
        "b=2\n",
        "c=3\n",
        "print(a,b,c)\n",
        "print(a+b+c)"
      ],
      "metadata": {
        "colab": {
          "base_uri": "https://localhost:8080/"
        },
        "id": "H8vRWSEmyUGi",
        "outputId": "bab530e6-bd28-498c-db26-6dcaa7b984ec"
      },
      "execution_count": null,
      "outputs": [
        {
          "output_type": "stream",
          "name": "stdout",
          "text": [
            "1 2 3\n",
            "6\n"
          ]
        }
      ]
    },
    {
      "cell_type": "markdown",
      "source": [
        "#### 데이터 유형\n",
        "* 텍스트\n",
        "*숫자\n",
        "*불(bool)"
      ],
      "metadata": {
        "id": "lsuXB7c6yqua"
      }
    },
    {
      "cell_type": "code",
      "source": [
        "a=100\n",
        "b=200\n",
        "sum=a+b\n",
        "print(a, '+', b, '=',sum)\n",
        "sum2=a-b\n",
        "print(a, '-', b, '=',sum2)\n",
        "sum3=a*b\n",
        "print(a, '*', b, '=',sum3)\n",
        "sum4=a/b\n",
        "print(a, '÷', b, '=',sum4)"
      ],
      "metadata": {
        "colab": {
          "base_uri": "https://localhost:8080/"
        },
        "id": "uMVPSuYAzRMr",
        "outputId": "72be9547-ac40-4a6b-81ee-1aa54bf1a5e1"
      },
      "execution_count": null,
      "outputs": [
        {
          "output_type": "stream",
          "name": "stdout",
          "text": [
            "100 + 200 = 300\n",
            "100 - 200 = -100\n",
            "100 * 200 = 20000\n",
            "100 ÷ 200 = 0.5\n"
          ]
        }
      ]
    },
    {
      "cell_type": "markdown",
      "source": [
        "### input() 함수 이용 계산기"
      ],
      "metadata": {
        "id": "RsJi2rQyAY2e"
      }
    },
    {
      "cell_type": "code",
      "source": [
        "a= int(input(\"첫번째 숫자를 입력해주세요: \"))\n",
        "b= int(input(\"두번째 숫자를 입력해주세요: \"))\n",
        "result=a+b\n",
        "print(a, '+', b, '=',result,\"덧샘\")\n",
        "result=a-b\n",
        "print(a, '-', b, '=',result,\"뺄샘\")\n",
        "result=a*b\n",
        "print(a, '*', b, '=',result,\"곱샘\")\n",
        "result=a/b\n",
        "print(a, '÷', b, '=',result,\"나눗샘\")\n",
        "result=a**b\n",
        "print(a, '^', b, '=',result,\"제곱\")\n",
        "result=a//b\n",
        "print(a, '//', b, '=',result,\"몫\")\n",
        "result=a%b\n",
        "print(a, '%', b, '=',result,\"나머지\")\n"
      ],
      "metadata": {
        "colab": {
          "base_uri": "https://localhost:8080/"
        },
        "id": "DC-k2-VnAv2E",
        "outputId": "b85f2a94-a011-4fd7-a5c2-d5e6c6169860"
      },
      "execution_count": null,
      "outputs": [
        {
          "output_type": "stream",
          "name": "stdout",
          "text": [
            "첫번째 숫자를 입력해주세요: 10\n",
            "두번째 숫자를 입력해주세요: 3\n",
            "10 + 3 = 13 덧샘\n",
            "10 - 3 = 7 뺄샘\n",
            "10 * 3 = 30 곱샘\n",
            "10 ÷ 3 = 3.3333333333333335 나눗샘\n",
            "10 ^ 3 = 1000 제곱\n",
            "10 // 3 = 3 몫\n",
            "10 % 3 = 1 나머지\n"
          ]
        }
      ]
    },
    {
      "cell_type": "code",
      "source": [
        "num1=input(\"숫자입력1 :\")\n",
        "num2=input(\"숫자입력2 :\")\n",
        "result=num1+num2\n",
        "print(type(num1))\n",
        "print(num1, \"+\", num2, \"=\", result)"
      ],
      "metadata": {
        "colab": {
          "base_uri": "https://localhost:8080/"
        },
        "id": "FuE_R6kgDgmz",
        "outputId": "4a103f9e-c7db-42d5-8928-aca83f542794"
      },
      "execution_count": null,
      "outputs": [
        {
          "output_type": "stream",
          "name": "stdout",
          "text": [
            "숫자입력1 :100\n",
            "숫자입력2 :200\n",
            "<class 'str'>\n",
            "100 + 200 = 100200\n"
          ]
        }
      ]
    },
    {
      "cell_type": "markdown",
      "source": [
        "## quiz:\n",
        "\n",
        "####전화번호, 이름을 입력받아 출력:  \n",
        "####입력한 내용은 이름 \"xx\", 전화번호\"yy\", 무게 \"zz\"(g)입니다.\n",
        "\n",
        "#### 산출 금액은 입력한 무게g수 x 10원 = \"vv\"원 입니다."
      ],
      "metadata": {
        "id": "QxwP6ZSqEdub"
      }
    },
    {
      "cell_type": "code",
      "source": [
        "name=input(\"이름을 입력하시오 :\")\n",
        "num=input(\"전화번호를 입력하시오 :\")\n",
        "gram=int(input(\"무게를 입력하시오 (g단위) :\"))\n",
        "monny=10\n",
        "result1=name\n",
        "result2=num\n",
        "result3=gram\n",
        "result4=gram*monny\n",
        "print(\"이름 :\",result1)\n",
        "print(\"전화번호:\",result2)\n",
        "print(\"무게 :\",result3)\n",
        "print(\"이 물건의 금액은\",result4,\"원\",\"입니다.\")"
      ],
      "metadata": {
        "colab": {
          "base_uri": "https://localhost:8080/"
        },
        "id": "l3ddzQu_EvRq",
        "outputId": "22b849a8-4c98-4745-dfe8-c1601ebed051"
      },
      "execution_count": null,
      "outputs": [
        {
          "output_type": "stream",
          "name": "stdout",
          "text": [
            "이름을 입력하시오 :123123\n",
            "전화번호를 입력하시오 :111\n",
            "무게를 입력하시오 (g단위) :123\n",
            "이름 : 123123\n",
            "전화번호: 111\n",
            "무게 : 123\n",
            "이 물건의 금액은 1230 원 입니다.\n"
          ]
        }
      ]
    },
    {
      "cell_type": "markdown",
      "source": [],
      "metadata": {
        "id": "RhD0hqDHjFef"
      }
    }
  ]
}