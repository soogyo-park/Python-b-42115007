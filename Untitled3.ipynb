{
  "nbformat": 4,
  "nbformat_minor": 0,
  "metadata": {
    "colab": {
      "provenance": [],
      "authorship_tag": "ABX9TyMht1ZCyTB8Um51gZVYJXPS",
      "include_colab_link": true
    },
    "kernelspec": {
      "name": "python3",
      "display_name": "Python 3"
    },
    "language_info": {
      "name": "python"
    }
  },
  "cells": [
    {
      "cell_type": "markdown",
      "metadata": {
        "id": "view-in-github",
        "colab_type": "text"
      },
      "source": [
        "<a href=\"https://colab.research.google.com/github/soogyo-park/Python-b-42115007/blob/main/Untitled3.ipynb\" target=\"_parent\"><img src=\"https://colab.research.google.com/assets/colab-badge.svg\" alt=\"Open In Colab\"/></a>"
      ]
    },
    {
      "cell_type": "markdown",
      "source": [
        "## CH4 조건문, 반복문"
      ],
      "metadata": {
        "id": "08GhsqmhuNSv"
      }
    },
    {
      "cell_type": "code",
      "source": [
        "score = int(input(\"점수를 입력해 주세요 :\"))\n",
        "if (score> 100):\n",
        "  print(\"0~100까지의 숫자를 입력하세요.\")\n",
        "else:\n",
        "  if(score >=90):\n",
        "    print(\"점수: %3d A\"% (score))\n",
        "  elif(score >= 80):\n",
        "    print(\"점수: %3d B\"% (score))\n",
        "  elif(score >=70):\n",
        "    print(\"점수: %3d C\"% (score))\n",
        "  elif (score>=60):\n",
        "    print(\"점수: %3d D\"% (score))\n",
        "  else:\n",
        "    print(\"점수: %3d F\"% (score))\n",
        "print(\"학점 입니다.\")"
      ],
      "metadata": {
        "colab": {
          "base_uri": "https://localhost:8080/"
        },
        "id": "8yIPul2HuMyP",
        "outputId": "542fb560-19c5-4201-fdf3-43d7e6e5d141"
      },
      "execution_count": null,
      "outputs": [
        {
          "output_type": "stream",
          "name": "stdout",
          "text": [
            "점수를 입력해 주세요 :88\n",
            "점수:  88 B\n",
            "학점 입니다.\n"
          ]
        }
      ]
    },
    {
      "cell_type": "code",
      "source": [
        "import random\n",
        "\n",
        "numbers = []\n",
        "for num in range(0,10):\n",
        "  numbers.append(random.randrange(0,10))\n",
        "\n",
        "print(\"생성된 리스트\", numbers)\n",
        "\n",
        "for num in range(0,10):\n",
        "  if num not in numbers:\n",
        "    print(\"숫자 %d는 리스트에 없습니다.\" %num)\n",
        "  else:\n",
        "    print(\"숫자 %d는 리스트에 있습니다.\" %num)"
      ],
      "metadata": {
        "colab": {
          "base_uri": "https://localhost:8080/"
        },
        "id": "30CSLibZze5t",
        "outputId": "457dec32-7077-4f94-8a5d-e724e51f16ef"
      },
      "execution_count": null,
      "outputs": [
        {
          "output_type": "stream",
          "name": "stdout",
          "text": [
            "생성된 리스트 [5, 0, 4, 1, 5, 3, 2, 0, 2, 8]\n",
            "숫자 0는 리스트에 있습니다.\n",
            "숫자 1는 리스트에 있습니다.\n",
            "숫자 2는 리스트에 있습니다.\n",
            "숫자 3는 리스트에 있습니다.\n",
            "숫자 4는 리스트에 있습니다.\n",
            "숫자 5는 리스트에 있습니다.\n",
            "숫자 6는 리스트에 없습니다.\n",
            "숫자 7는 리스트에 없습니다.\n",
            "숫자 8는 리스트에 있습니다.\n",
            "숫자 9는 리스트에 없습니다.\n"
          ]
        }
      ]
    },
    {
      "cell_type": "code",
      "source": [
        "select, answer, numSrt, num1, num2 = 0,0,\"\",0,0\n",
        "\n",
        "select=int(input(\"1. 입력한 수식 계산 2. 두수의 합계: \"))\n",
        "\n",
        "if select == 1:\n",
        "  numStr = input(\"*** 수식을 입력하세요. : \")\n",
        "  answer = eval(numStr) # 1+2 \"string\"+\"str\"\n",
        "  print(\" %s 결과는 %5.1f입니다. \"%(numStr,answer))\n",
        "elif select == 2:\n",
        "  num1 = int(input(\"*** 첫번째 숫자를 입력하세요 : \"))\n",
        "  num2 = int(input(\"*** 두번째 숫자를 입력하세요 : \"))\n",
        "  for i in range(num1,num2+1):\n",
        "    answer = answer + i\n",
        "  print(\"%d+...+%d는 %d입니다. \"%(num1,num2,answer))\n",
        "else:\n",
        "  print(\"1 또는 2만 입력해야 합니다.\")"
      ],
      "metadata": {
        "colab": {
          "base_uri": "https://localhost:8080/"
        },
        "id": "hiCWXcpU5jpi",
        "outputId": "a7fd5a8f-42b3-4164-fd01-bd4620f69c47"
      },
      "execution_count": null,
      "outputs": [
        {
          "output_type": "stream",
          "name": "stdout",
          "text": [
            "1. 입력한 수식 계산 2. 두수의 합계: 1\n",
            "*** 수식을 입력하세요. : 5*2\n",
            " 5*2 결과는  10.0입니다. \n"
          ]
        }
      ]
    },
    {
      "cell_type": "markdown",
      "source": [
        "## for & while 문"
      ],
      "metadata": {
        "id": "DMQgr9Dq-ecg"
      }
    },
    {
      "cell_type": "code",
      "source": [
        "for i in range(0,3,1):\n",
        "  print(\"안녕!\")"
      ],
      "metadata": {
        "colab": {
          "base_uri": "https://localhost:8080/"
        },
        "id": "7M-3WF24-iYO",
        "outputId": "a0d1911b-10df-42b5-d32e-e1d2fa6c2890"
      },
      "execution_count": null,
      "outputs": [
        {
          "output_type": "stream",
          "name": "stdout",
          "text": [
            "안녕!\n",
            "안녕!\n",
            "안녕!\n"
          ]
        }
      ]
    },
    {
      "cell_type": "code",
      "source": [
        "for i in [0,3,1]:\n",
        "  print(\"안녕!\")"
      ],
      "metadata": {
        "colab": {
          "base_uri": "https://localhost:8080/"
        },
        "id": "ACpp5I1N_5oG",
        "outputId": "f4be7c62-c826-43a7-ec8f-65e4bf3adf4b"
      },
      "execution_count": null,
      "outputs": [
        {
          "output_type": "stream",
          "name": "stdout",
          "text": [
            "안녕!\n",
            "안녕!\n",
            "안녕!\n"
          ]
        }
      ]
    },
    {
      "cell_type": "code",
      "source": [
        "for i in range(1,4,1):\n",
        "  for j in range(1,3,1):\n",
        "    print(\"i:%d, j:%d\" %(i,j))"
      ],
      "metadata": {
        "colab": {
          "base_uri": "https://localhost:8080/"
        },
        "id": "1WrGw2sPAc7d",
        "outputId": "e35257a7-fb41-4024-9372-6f22527cb858"
      },
      "execution_count": null,
      "outputs": [
        {
          "output_type": "stream",
          "name": "stdout",
          "text": [
            "i:1, j:1\n",
            "i:1, j:2\n",
            "i:2, j:1\n",
            "i:2, j:2\n",
            "i:3, j:1\n",
            "i:3, j:2\n"
          ]
        }
      ]
    },
    {
      "cell_type": "code",
      "source": [
        "i,j =0,0\n",
        "for i in range(2,10,1):\n",
        "  for j in range(1,10,1):\n",
        "    print(\"%d x %d = %2d\" %(i,j,i*j), end=\"   \")\n",
        "  print(\" \")"
      ],
      "metadata": {
        "colab": {
          "base_uri": "https://localhost:8080/"
        },
        "id": "PSec8b0fBNlN",
        "outputId": "22b57ad8-d216-4e11-c037-5ae4ac283018"
      },
      "execution_count": null,
      "outputs": [
        {
          "output_type": "stream",
          "name": "stdout",
          "text": [
            "2 x 1 =  2   2 x 2 =  4   2 x 3 =  6   2 x 4 =  8   2 x 5 = 10   2 x 6 = 12   2 x 7 = 14   2 x 8 = 16   2 x 9 = 18    \n",
            "3 x 1 =  3   3 x 2 =  6   3 x 3 =  9   3 x 4 = 12   3 x 5 = 15   3 x 6 = 18   3 x 7 = 21   3 x 8 = 24   3 x 9 = 27    \n",
            "4 x 1 =  4   4 x 2 =  8   4 x 3 = 12   4 x 4 = 16   4 x 5 = 20   4 x 6 = 24   4 x 7 = 28   4 x 8 = 32   4 x 9 = 36    \n",
            "5 x 1 =  5   5 x 2 = 10   5 x 3 = 15   5 x 4 = 20   5 x 5 = 25   5 x 6 = 30   5 x 7 = 35   5 x 8 = 40   5 x 9 = 45    \n",
            "6 x 1 =  6   6 x 2 = 12   6 x 3 = 18   6 x 4 = 24   6 x 5 = 30   6 x 6 = 36   6 x 7 = 42   6 x 8 = 48   6 x 9 = 54    \n",
            "7 x 1 =  7   7 x 2 = 14   7 x 3 = 21   7 x 4 = 28   7 x 5 = 35   7 x 6 = 42   7 x 7 = 49   7 x 8 = 56   7 x 9 = 63    \n",
            "8 x 1 =  8   8 x 2 = 16   8 x 3 = 24   8 x 4 = 32   8 x 5 = 40   8 x 6 = 48   8 x 7 = 56   8 x 8 = 64   8 x 9 = 72    \n",
            "9 x 1 =  9   9 x 2 = 18   9 x 3 = 27   9 x 4 = 36   9 x 5 = 45   9 x 6 = 54   9 x 7 = 63   9 x 8 = 72   9 x 9 = 81    \n"
          ]
        }
      ]
    },
    {
      "cell_type": "code",
      "source": [
        "i = 0\n",
        "while i<100:\n",
        "  print(\"%d : while문\" %i)\n",
        "  i = i+10"
      ],
      "metadata": {
        "colab": {
          "base_uri": "https://localhost:8080/"
        },
        "id": "bwbTMZrTCeKN",
        "outputId": "7472b5bd-b01d-4094-b512-11ec020301e7"
      },
      "execution_count": null,
      "outputs": [
        {
          "output_type": "stream",
          "name": "stdout",
          "text": [
            "0 : while문\n",
            "10 : while문\n",
            "20 : while문\n",
            "30 : while문\n",
            "40 : while문\n",
            "50 : while문\n",
            "60 : while문\n",
            "70 : while문\n",
            "80 : while문\n",
            "90 : while문\n"
          ]
        }
      ]
    },
    {
      "cell_type": "code",
      "source": [
        "# q 부터 10까지 합계를 while, for문으로 구하시오.\n",
        "#while문\n",
        "i, hap = 0,0\n",
        "i = 1\n",
        "while i<11:\n",
        "  hap= hap+i\n",
        "  i=i+1\n",
        "  print(\"1부터 10까지의 합계: %d\" %(hap))"
      ],
      "metadata": {
        "colab": {
          "base_uri": "https://localhost:8080/"
        },
        "id": "UJxLUOVcC7mU",
        "outputId": "b1a24e2a-b6d0-45e8-d1fc-d81e5a7f26c5"
      },
      "execution_count": null,
      "outputs": [
        {
          "output_type": "stream",
          "name": "stdout",
          "text": [
            "1부터 10까지의 합계: 1\n",
            "1부터 10까지의 합계: 3\n",
            "1부터 10까지의 합계: 6\n",
            "1부터 10까지의 합계: 10\n",
            "1부터 10까지의 합계: 15\n",
            "1부터 10까지의 합계: 21\n",
            "1부터 10까지의 합계: 28\n",
            "1부터 10까지의 합계: 36\n",
            "1부터 10까지의 합계: 45\n",
            "1부터 10까지의 합계: 55\n"
          ]
        }
      ]
    },
    {
      "cell_type": "code",
      "source": [
        "#for문.\n",
        "i, hap = 0,0\n",
        "for i in range(1,11,1):\n",
        "  hap=hap+i\n",
        "print(\"1부터 10까지의 합계: %d\" %hap)"
      ],
      "metadata": {
        "colab": {
          "base_uri": "https://localhost:8080/"
        },
        "id": "NssONDDVDgqU",
        "outputId": "cab9c77e-8dde-424f-d166-459fc9ea420f"
      },
      "execution_count": null,
      "outputs": [
        {
          "output_type": "stream",
          "name": "stdout",
          "text": [
            "1부터 10까지의 합계: 55\n"
          ]
        }
      ]
    },
    {
      "cell_type": "code",
      "source": [
        "#while True:\n",
        "#print(\"무한루프 ∞\", end='')"
      ],
      "metadata": {
        "id": "lBUxLAn4EP88"
      },
      "execution_count": null,
      "outputs": []
    },
    {
      "cell_type": "code",
      "source": [
        "#brake\n",
        "for i in range(1,100):\n",
        "  print(\"for문 %d번 실행\" %i)\n",
        "  break\n",
        "print(\"brake 빠짐\")"
      ],
      "metadata": {
        "colab": {
          "base_uri": "https://localhost:8080/"
        },
        "id": "UEkCUxOZEtpO",
        "outputId": "a4ab6d9b-dd27-4d86-9c77-710251382985"
      },
      "execution_count": null,
      "outputs": [
        {
          "output_type": "stream",
          "name": "stdout",
          "text": [
            "for문 1번 실행\n",
            "brake 빠짐\n"
          ]
        }
      ]
    },
    {
      "cell_type": "code",
      "source": [
        "from IPython.lib.pretty import Breakable\n",
        "hap = 0\n",
        "a,b = 0,0\n",
        "while True:\n",
        "  a = int(input(\"덧샘 첫번째 수 입력: \"))\n",
        "  if a==0:\n",
        "    break\n",
        "  b = int(input(\"덧샘 두번째 수 입력: \"))\n",
        "  hap = a+b\n",
        "  print(\"%d+%d=%d\" %(a,b,hap))\n",
        "\n",
        "print(\"break로 중지.\")"
      ],
      "metadata": {
        "colab": {
          "base_uri": "https://localhost:8080/"
        },
        "id": "kLXLwTmPFc0T",
        "outputId": "cca2177b-eabf-411f-c159-07d2c131006f"
      },
      "execution_count": null,
      "outputs": [
        {
          "output_type": "stream",
          "name": "stdout",
          "text": [
            "덧샘 첫번째 수 입력: 1\n",
            "덧샘 두번째 수 입력: 2\n",
            "1+2=3\n",
            "덧샘 첫번째 수 입력: 3\n",
            "덧샘 두번째 수 입력: 4\n",
            "3+4=7\n",
            "덧샘 첫번째 수 입력: 0\n",
            "break로 중지.\n"
          ]
        }
      ]
    },
    {
      "cell_type": "code",
      "source": [
        "#continue\n",
        "hap, i =0,0\n",
        "for i in range(1,11):\n",
        "  if i % 3 == 0:\n",
        "    print(\"i:%d\" %i)\n",
        "    continue\n",
        "  hap += i\n",
        "\n",
        "print(\"1~10 합계(3의 배수 제외) : %d\" %hap)"
      ],
      "metadata": {
        "colab": {
          "base_uri": "https://localhost:8080/"
        },
        "id": "gUNA0SvKGaQ7",
        "outputId": "4b4371f3-b88d-4dbf-904e-5e723acf751d"
      },
      "execution_count": null,
      "outputs": [
        {
          "output_type": "stream",
          "name": "stdout",
          "text": [
            "i:3\n",
            "i:6\n",
            "i:9\n",
            "1~10 합계(3의 배수 제외) : 37\n"
          ]
        }
      ]
    },
    {
      "cell_type": "code",
      "source": [
        "fruits = [\"사과\",\"바나나\",\"체리\"]\n",
        "for x in fruits:\n",
        "  if x == \"바나나\":\n",
        "    continue\n",
        "  print(x)"
      ],
      "metadata": {
        "colab": {
          "base_uri": "https://localhost:8080/"
        },
        "id": "kKlXKIVfISXC",
        "outputId": "1b2c1a74-79ce-4bc5-dc37-46cf6d6258e2"
      },
      "execution_count": null,
      "outputs": [
        {
          "output_type": "stream",
          "name": "stdout",
          "text": [
            "사과\n",
            "체리\n"
          ]
        }
      ]
    },
    {
      "cell_type": "code",
      "source": [
        "for x in range(6):\n",
        "  print(x)\n",
        "else:\n",
        "  print(\"끝\")"
      ],
      "metadata": {
        "colab": {
          "base_uri": "https://localhost:8080/"
        },
        "id": "w2G5fWULIr9S",
        "outputId": "d3dec249-c241-472b-e1a0-2199e5767327"
      },
      "execution_count": null,
      "outputs": [
        {
          "output_type": "stream",
          "name": "stdout",
          "text": [
            "0\n",
            "1\n",
            "2\n",
            "3\n",
            "4\n",
            "5\n",
            "끝\n"
          ]
        }
      ]
    },
    {
      "cell_type": "code",
      "source": [
        "for x in range(6):\n",
        "  if x == 3: \n",
        "    break\n",
        "  print(x)\n",
        "else:\n",
        "  print(\"끝\")"
      ],
      "metadata": {
        "colab": {
          "base_uri": "https://localhost:8080/"
        },
        "id": "4NBxpW62JDLR",
        "outputId": "2af240f0-543c-4524-ce27-f2fdec91a7f2"
      },
      "execution_count": null,
      "outputs": [
        {
          "output_type": "stream",
          "name": "stdout",
          "text": [
            "0\n",
            "1\n",
            "2\n"
          ]
        }
      ]
    },
    {
      "cell_type": "code",
      "source": [
        "#for문 루프는 비워둘 수 없음\n",
        "for x in [0,1,2]:\n",
        "  pass"
      ],
      "metadata": {
        "id": "MtpPxNEAKEWz"
      },
      "execution_count": null,
      "outputs": []
    },
    {
      "cell_type": "markdown",
      "source": [
        "## 함수"
      ],
      "metadata": {
        "id": "_mfbKcIOLyBo"
      }
    },
    {
      "cell_type": "code",
      "source": [
        "# 두 수를 더하는 함수.\n",
        "\n",
        "def plus(v1,v2):\n",
        "  result=0\n",
        "  result=v1+v2\n",
        "  return result\n",
        "\n",
        "hap = 0\n",
        "hap = plus(10,20)\n",
        "print(\"10+20 plus() 처리결과는 %d\" %hap)\n",
        "hap = plus(20,30)\n",
        "print(\"20+30 plus() 처리결과는 %d\" %hap)"
      ],
      "metadata": {
        "colab": {
          "base_uri": "https://localhost:8080/"
        },
        "id": "d3QiwxeGLzcX",
        "outputId": "09ff7528-8300-477c-be92-4f3803409c5a"
      },
      "execution_count": null,
      "outputs": [
        {
          "output_type": "stream",
          "name": "stdout",
          "text": [
            "10+20 plus() 처리결과는 30\n",
            "20+30 plus() 처리결과는 50\n"
          ]
        }
      ]
    },
    {
      "cell_type": "code",
      "source": [
        "# 계산기 코드\n",
        "\n",
        "def calc(v1,v2,op):\n",
        "  result = 0\n",
        "  if op == '+':\n",
        "    reulst = v1+v2\n",
        "  elif op == '-':\n",
        "    reulst = v1-v2\n",
        "  elif op == '*':\n",
        "    reulst = v1*v2\n",
        "  elif op == '/':\n",
        "    reulst = v1/v2\n",
        "  return result\n",
        "\n",
        "rst = 0\n",
        "var1, var2, opr = 0,0,\"\"\n",
        "\n",
        "opr = input(\"(+,-,*,/)입력 : \")\n",
        "var1 = int(input(\"첫번째 수 입력: \"))\n",
        "var2 = int(input(\"두번째 수 입력: \"))\n",
        "rst = calc(var1,var2,opr)\n",
        "\n",
        "print(\"계산기 %d %s %d = %d\" %(var1,opr,var2,rst))"
      ],
      "metadata": {
        "colab": {
          "base_uri": "https://localhost:8080/"
        },
        "id": "podrQRGEM-yg",
        "outputId": "fb8be9e3-0b59-4ee6-b083-34215ebc064e"
      },
      "execution_count": null,
      "outputs": [
        {
          "output_type": "stream",
          "name": "stdout",
          "text": [
            "(+,-,*,/)입력 : /\n",
            "첫번째 수 입력: 20\n",
            "두번째 수 입력: 10\n",
            "계산기 20 / 10 = 0\n"
          ]
        }
      ]
    },
    {
      "cell_type": "markdown",
      "source": [
        "## 0으로 나누려고 하면 메세지 출력 및 계산 중지.\n",
        "## 제곱 연산자 추가"
      ],
      "metadata": {
        "id": "i5ZMFuy5QBEe"
      }
    },
    {
      "cell_type": "code",
      "source": [
        "# 과제 계산기 코드\n",
        "\n",
        "def calc(v1,v2,op):\n",
        "  result = 0\n",
        "  if op == '+':\n",
        "    reulst = v1 + v2\n",
        "  elif op == '-':\n",
        "    reulst = v1 - v2\n",
        "  elif op == '*':\n",
        "    reulst = v1 * v2\n",
        "  elif op == '/':\n",
        "    reulst = v1 / v2\n",
        "    while True:\n",
        "      if v1 == 0:\n",
        "        print(\"0 으로 나눌 수 없습니다.\")\n",
        "        break\n",
        "  elif op == '^':\n",
        "    reulst = v1 ^ v2\n",
        "  return result\n",
        "\n",
        "rst = 0\n",
        "var1, var2, opr = 0,0,\"\"\n",
        "\n",
        "opr = input(\"(+,-,*,/,^)입력 : \")\n",
        "var1 = int(input(\"첫번째 수 입력: \"))\n",
        "var2 = int(input(\"두번째 수 입력: \"))\n",
        "rst = calc(var1,var2,opr)\n",
        "\n",
        "\n",
        "\n",
        "print(\"계산기 %d %s %d = %d\" %(var1,opr,var2,rst))"
      ],
      "metadata": {
        "colab": {
          "base_uri": "https://localhost:8080/"
        },
        "id": "IYXiRcvrQd0V",
        "outputId": "65e66653-01e1-48d4-e072-454e3d9627cb"
      },
      "execution_count": null,
      "outputs": [
        {
          "name": "stdout",
          "output_type": "stream",
          "text": [
            "(+,-,*,/,^)입력 : /\n",
            "첫번째 수 입력: 2\n",
            "두번째 수 입력: 1\n"
          ]
        }
      ]
    },
    {
      "cell_type": "code",
      "source": [
        "# 전역 변수와 지역변수\n",
        "def func1():\n",
        "  a = 10 # 지역변수\n",
        "  print(\"func1()에서 값 %d\" %a)\n",
        "\n",
        "def func2():\n",
        "  a = 10 # 지역변수\n",
        "  print(\"func2()에서 값 %d\" %a)\n",
        "\n",
        "a= 20 #전역 변수\n",
        "\n",
        "func1()\n",
        "func2()"
      ],
      "metadata": {
        "colab": {
          "base_uri": "https://localhost:8080/"
        },
        "id": "cC6AVavcRG0m",
        "outputId": "f652854a-331f-42f6-c4bc-e65983ac1dc9"
      },
      "execution_count": null,
      "outputs": [
        {
          "output_type": "stream",
          "name": "stdout",
          "text": [
            "func1()에서 값 10\n",
            "func2()에서 값 10\n"
          ]
        }
      ]
    }
  ]
}