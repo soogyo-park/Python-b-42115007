{
  "nbformat": 4,
  "nbformat_minor": 0,
  "metadata": {
    "colab": {
      "provenance": [],
      "authorship_tag": "ABX9TyPXU+Z54T+nJCosfoP6cAak",
      "include_colab_link": true
    },
    "kernelspec": {
      "name": "python3",
      "display_name": "Python 3"
    },
    "language_info": {
      "name": "python"
    }
  },
  "cells": [
    {
      "cell_type": "markdown",
      "metadata": {
        "id": "view-in-github",
        "colab_type": "text"
      },
      "source": [
        "<a href=\"https://colab.research.google.com/github/soogyo-park/Python-b-42115007/blob/main/Untitled1.ipynb\" target=\"_parent\"><img src=\"https://colab.research.google.com/assets/colab-badge.svg\" alt=\"Open In Colab\"/></a>"
      ]
    },
    {
      "cell_type": "markdown",
      "source": [
        "#### 2. print() 서식출력"
      ],
      "metadata": {
        "id": "G666PV42ireR"
      }
    },
    {
      "cell_type": "code",
      "source": [
        "print(\"%d\" % 123)\n",
        "print(\"%5d\" % 123)\n",
        "print(\"%05d\" % 123)\n",
        "\n",
        "print(\"%f\" % 123.45)\n",
        "print(\"%7.1f\" % 123.45)\n",
        "print(\"%7.3f\" % 123.45)\n",
        "\n",
        "print(\"%s\" % \"대한민국\")\n",
        "print(\"%8s\" % \"대한민국\")"
      ],
      "metadata": {
        "colab": {
          "base_uri": "https://localhost:8080/"
        },
        "id": "gWSa3cGHiyrn",
        "outputId": "759faa1b-9884-4111-a60f-a01817b67eab"
      },
      "execution_count": 2,
      "outputs": [
        {
          "output_type": "stream",
          "name": "stdout",
          "text": [
            "123\n",
            "  123\n",
            "00123\n",
            "123.450000\n",
            "  123.5\n",
            "123.450\n",
            "대한민국\n",
            "    대한민국\n"
          ]
        }
      ]
    },
    {
      "cell_type": "code",
      "source": [
        "print(\"{0:d} {1:5d} {2:05d}\".format(123,456,789))"
      ],
      "metadata": {
        "colab": {
          "base_uri": "https://localhost:8080/"
        },
        "id": "_AnKVi2PkBGX",
        "outputId": "0813a4f6-2f80-48b9-c899-4bfc8b711306"
      },
      "execution_count": 11,
      "outputs": [
        {
          "output_type": "stream",
          "name": "stdout",
          "text": [
            "123   456 00789\n"
          ]
        }
      ]
    },
    {
      "cell_type": "code",
      "source": [
        "print(\"{2:d} {1:5d} {0:05d}\".format(123,456,789))"
      ],
      "metadata": {
        "colab": {
          "base_uri": "https://localhost:8080/"
        },
        "id": "QZ8v1PXEk69f",
        "outputId": "4fb1f914-7240-4577-bb79-f710ae6b14f9"
      },
      "execution_count": 13,
      "outputs": [
        {
          "output_type": "stream",
          "name": "stdout",
          "text": [
            "789   456 00123\n"
          ]
        }
      ]
    },
    {
      "cell_type": "markdown",
      "source": [
        "#### 서식출력"
      ],
      "metadata": {
        "id": "xakFQNTflBGe"
      }
    },
    {
      "cell_type": "code",
      "source": [
        "print(\"\\n줄바꿈\\n연습입니다\")"
      ],
      "metadata": {
        "colab": {
          "base_uri": "https://localhost:8080/"
        },
        "id": "fxkKRm08lDzu",
        "outputId": "dc7e3d12-ae36-4d89-85b6-48a628bbb6fc"
      },
      "execution_count": 16,
      "outputs": [
        {
          "output_type": "stream",
          "name": "stdout",
          "text": [
            "\n",
            "줄바꿈\n",
            "연습입니다\n"
          ]
        }
      ]
    },
    {
      "cell_type": "code",
      "source": [
        "print(\"\\t탭키\\t연습입니다.\")"
      ],
      "metadata": {
        "colab": {
          "base_uri": "https://localhost:8080/"
        },
        "id": "lwEExIJ1lWCH",
        "outputId": "5ad0393f-0369-4782-856f-3df4079b23fb"
      },
      "execution_count": 18,
      "outputs": [
        {
          "output_type": "stream",
          "name": "stdout",
          "text": [
            "\t탭키\t연습입니다.\n"
          ]
        }
      ]
    },
    {
      "cell_type": "code",
      "source": [
        "print(\"글자가 \\'강조\\'되는 효과1\")\n",
        "print(\"글자가 \\\"강조\\\"되는 효과2\")\n",
        "print(\"역슬래시 3개출력 \\\\\\\\\\\\\")\n",
        "print(r\"\\n \\t \\\" \\\\ \\' @를 그대로 출력\") #그대로 출력됨"
      ],
      "metadata": {
        "colab": {
          "base_uri": "https://localhost:8080/"
        },
        "id": "4xVZoU3ilgb_",
        "outputId": "5d5138bc-ae4c-4763-d600-708e41060518"
      },
      "execution_count": 25,
      "outputs": [
        {
          "output_type": "stream",
          "name": "stdout",
          "text": [
            "글자가 '강조'되는 효과1\n",
            "글자가 \"강조\"되는 효과2\n",
            "역슬래시 3개출력 \\\\\\\n",
            "\\n \\t \\\" \\\\ \\' @를 그대로 출력\n"
          ]
        }
      ]
    },
    {
      "cell_type": "markdown",
      "source": [
        "#### 관계 연산자"
      ],
      "metadata": {
        "id": "t1RHyBmzonMr"
      }
    },
    {
      "cell_type": "code",
      "source": [
        "a,b=10,20\n",
        "print(a==b, a!=b, a>b, a<b, a>=b, a<=b)"
      ],
      "metadata": {
        "colab": {
          "base_uri": "https://localhost:8080/"
        },
        "id": "hUDyYKePopPb",
        "outputId": "a930ece6-42d8-4337-a575-5cf3fff72edc"
      },
      "execution_count": 26,
      "outputs": [
        {
          "output_type": "stream",
          "name": "stdout",
          "text": [
            "False True False True False True\n"
          ]
        }
      ]
    },
    {
      "cell_type": "markdown",
      "source": [
        "#### 논리 연산자"
      ],
      "metadata": {
        "id": "V0MPOgk1pDPc"
      }
    },
    {
      "cell_type": "code",
      "source": [
        "a= 99\n",
        "print((a>100)and(a<200))\n",
        "print((a>100) or (a<200))\n",
        "print(not(a==100))"
      ],
      "metadata": {
        "colab": {
          "base_uri": "https://localhost:8080/"
        },
        "id": "dUBh43krpF_c",
        "outputId": "bbff43a5-5b02-4d79-dce5-4d7f68c4ecd5"
      },
      "execution_count": 29,
      "outputs": [
        {
          "output_type": "stream",
          "name": "stdout",
          "text": [
            "False\n",
            "True\n",
            "True\n"
          ]
        }
      ]
    },
    {
      "cell_type": "code",
      "source": [
        "if(123):\n",
        "  print(\"참이면 보입니다.\")\n",
        "if(0):\n",
        "  print(\"거짓이면 안 보입니다.\")"
      ],
      "metadata": {
        "colab": {
          "base_uri": "https://localhost:8080/"
        },
        "id": "zKGxDB7JprJD",
        "outputId": "fd479d15-d4fb-4b5e-bce2-2ac65e6f62ed"
      },
      "execution_count": 30,
      "outputs": [
        {
          "output_type": "stream",
          "name": "stdout",
          "text": [
            "참이면 보입니다.\n"
          ]
        }
      ]
    },
    {
      "cell_type": "markdown",
      "source": [
        "#### 퀴즈2  \n",
        "숫자 입력을 받아 동전으로 바꿔주는 프로그램 (500원, 100원, 50원, 10원)"
      ],
      "metadata": {
        "id": "5myjkEUqvthR"
      }
    },
    {
      "cell_type": "code",
      "source": [
        "from IPython.core.interactiveshell import re\n",
        "\n",
        "#변수 선언\n",
        "bill, c500, c100, c50, c10 =0,0,0,0,0\n",
        "\n",
        "bill= int(input(\"가격을 입력해 주세요: \"))\n",
        "c500= bill // 500 \n",
        "bill %= 500\n",
        "c100= bill // 100\n",
        "bill %= 100\n",
        "c50= bill // 50\n",
        "bill %= 50\n",
        "c10= bill // 10\n",
        "bill %= 10\n",
        "\n",
        "print(\"500원\", c500 , \"개\")\n",
        "print(\"100원\", c100 , \"개\")\n",
        "print(\"50원\", c50 , \"개\")\n",
        "print(\"10원\", c10 , \"개\")\n",
        "print(\"남은 돈\", bill, \"원 \\n\") \n",
        "\n",
        "print(\"500원 %d개\" % c500)\n",
        "print(\"100원 %d개\" % c100)\n",
        "print(\"50원 %d개\" % c50)\n",
        "print(\"10원 %d개\" % c10)"
      ],
      "metadata": {
        "colab": {
          "base_uri": "https://localhost:8080/"
        },
        "id": "qFjlela3wWvR",
        "outputId": "dc2cbbba-f4e6-4cbb-e2f3-def1cdae4a4c"
      },
      "execution_count": 43,
      "outputs": [
        {
          "output_type": "stream",
          "name": "stdout",
          "text": [
            "가격을 입력해 주세요: 1241\n",
            "500원 2 개\n",
            "100원 2 개\n",
            "50원 0 개\n",
            "10원 4 개\n",
            "남은 돈 1 원 \n",
            "\n",
            "500원 2개\n",
            "100원 2개\n",
            "50원 0개\n",
            "10원 4개\n"
          ]
        }
      ]
    },
    {
      "cell_type": "markdown",
      "source": [
        "#### 조건문"
      ],
      "metadata": {
        "id": "KpCi5tAX1La2"
      }
    },
    {
      "cell_type": "code",
      "source": [
        "a=2000\n",
        "if(a<100):\n",
        "  print(\"100보다 작음\")\n",
        "  print(\"거짓이면 이 문장은 보이지 잖음\")\n",
        "else:\n",
        "    print(\"100보다 크다\")\n",
        "    print(\"프로그램 끝\")\n"
      ],
      "metadata": {
        "colab": {
          "base_uri": "https://localhost:8080/"
        },
        "id": "FjzokJo71NMI",
        "outputId": "ba55f96e-05b0-4e31-aa20-13d0568d22dc"
      },
      "execution_count": 49,
      "outputs": [
        {
          "output_type": "stream",
          "name": "stdout",
          "text": [
            "100보다 크다\n",
            "프로그램 끝\n"
          ]
        }
      ]
    },
    {
      "cell_type": "code",
      "source": [
        "a=int(input(\"점수를 입력하시오 :\"))\n",
        "if(a%2==0):\n",
        "  print(\"짝\")\n",
        "else :\n",
        "  print(\"홀\")"
      ],
      "metadata": {
        "colab": {
          "base_uri": "https://localhost:8080/"
        },
        "id": "lC53ZWl02HEW",
        "outputId": "7700c88a-f17f-4237-9dd4-1d7a360b5dd7"
      },
      "execution_count": 51,
      "outputs": [
        {
          "output_type": "stream",
          "name": "stdout",
          "text": [
            "점수를 입력하시오 :1\n",
            "홀\n"
          ]
        }
      ]
    },
    {
      "cell_type": "code",
      "source": [
        "a=int(input(\"숫자입력:\"))\n",
        "\n",
        "if(a>50):\n",
        "  if(a<100):\n",
        "    print(\"50<a<100\")\n",
        "  else:\n",
        "    print(\"a>100\")\n",
        "else:\n",
        "  print(\"a<50\")"
      ],
      "metadata": {
        "colab": {
          "base_uri": "https://localhost:8080/"
        },
        "id": "lP_HBwWA24BN",
        "outputId": "9db80225-2d76-4326-b781-b4b9da8cac84"
      },
      "execution_count": 52,
      "outputs": [
        {
          "output_type": "stream",
          "name": "stdout",
          "text": [
            "숫자입력:124\n",
            "a>100\n"
          ]
        }
      ]
    },
    {
      "cell_type": "code",
      "source": [
        "from pickle import APPEND\n",
        "fruit=['사과','배','감','포도']\n",
        "fruit.append('딸기')\n",
        "if'딸기'in fruit:\n",
        "  print(\"딸기가 있습니다.\")\n",
        "print(fruit)"
      ],
      "metadata": {
        "colab": {
          "base_uri": "https://localhost:8080/"
        },
        "id": "h5p8RDu_7lqN",
        "outputId": "797b6b44-461d-428e-d5eb-c98d2ae5ed8c"
      },
      "execution_count": 62,
      "outputs": [
        {
          "output_type": "stream",
          "name": "stdout",
          "text": [
            "딸기가 있습니다.\n",
            "딸기가 없음\n",
            "['사과', '배', '감', '포도', '딸기']\n"
          ]
        }
      ]
    },
    {
      "cell_type": "code",
      "source": [
        "import random\n",
        "\n",
        "number=[]\n",
        "for num in range(0,10):\n",
        "  number.append(random.randrange(0,10))\n",
        "print(\"생성된 리스트\", number)"
      ],
      "metadata": {
        "colab": {
          "base_uri": "https://localhost:8080/"
        },
        "id": "ZC1Z88Dw88jr",
        "outputId": "88b27bbf-7fd8-4acf-869a-3d76e710b5dc"
      },
      "execution_count": 73,
      "outputs": [
        {
          "output_type": "stream",
          "name": "stdout",
          "text": [
            "생성된 리스트 [7, 8, 0, 2, 3, 9, 6, 9, 6, 1]\n"
          ]
        }
      ]
    },
    {
      "cell_type": "markdown",
      "source": [
        "#### 반복문"
      ],
      "metadata": {
        "id": "_tr2t1a1-Y5S"
      }
    },
    {
      "cell_type": "code",
      "source": [
        "for i in range(0,3,1): #시작값, 끝값+1,증가값\n",
        "  print(\"%d 안녕하세요~\"%i)#반복 내용\n",
        "\n",
        "print(\"반갑습니다.\")"
      ],
      "metadata": {
        "colab": {
          "base_uri": "https://localhost:8080/"
        },
        "id": "q0-C7l15-a1x",
        "outputId": "65d0f7e0-0dc3-4220-a4f0-096e84d1582a"
      },
      "execution_count": 84,
      "outputs": [
        {
          "output_type": "stream",
          "name": "stdout",
          "text": [
            "0 안녕하세요~\n",
            "1 안녕하세요~\n",
            "2 안녕하세요~\n",
            "반갑습니다.\n"
          ]
        }
      ]
    },
    {
      "cell_type": "code",
      "source": [
        "for i in range(1,9,1):\n",
        "  print(\"%d \" %i, end=\" \")\n",
        "print(\"\\n\")\n",
        "for i in range(1,9,1):\n",
        "  print(\"%d \" %i, end=\" \")"
      ],
      "metadata": {
        "colab": {
          "base_uri": "https://localhost:8080/"
        },
        "id": "rqPPiIcr_yZx",
        "outputId": "64189c30-df74-4950-8eef-926875fed2b7"
      },
      "execution_count": 92,
      "outputs": [
        {
          "output_type": "stream",
          "name": "stdout",
          "text": [
            "1  2  3  4  5  6  7  8  \n",
            "\n",
            "1  2  3  4  5  6  7  8  "
          ]
        }
      ]
    },
    {
      "cell_type": "code",
      "source": [
        "sum=0\n",
        "for i in range(1,11,1):\n",
        "  sum = sum+i\n",
        "print(\"1~10까지 합계 : %d\" % sum)"
      ],
      "metadata": {
        "colab": {
          "base_uri": "https://localhost:8080/"
        },
        "id": "snj7qo_9Av1y",
        "outputId": "1c322030-ad9c-42e2-ed6b-0871d5ecee43"
      },
      "execution_count": 105,
      "outputs": [
        {
          "output_type": "stream",
          "name": "stdout",
          "text": [
            "1~10까지 합계 : 55\n"
          ]
        }
      ]
    },
    {
      "cell_type": "markdown",
      "source": [
        "#### 퀴즈 3: 숫자 입력을 받아 1부터 입력된 숫자까지의 합을 출력하시오"
      ],
      "metadata": {
        "id": "ljfgDFOPBxX5"
      }
    },
    {
      "cell_type": "code",
      "source": [
        "sum,i=0,0\n",
        "sum=int(input(\"숫자를 입력하시오 : \"))\n",
        "for i in range(1,sum,1):\n",
        "  sum = sum+i\n",
        "print(\"1부터\", i+1 , \"까지의 합계 : %d\" % sum)\n"
      ],
      "metadata": {
        "colab": {
          "base_uri": "https://localhost:8080/"
        },
        "id": "3SgV0o19CECQ",
        "outputId": "ee8a19bc-8c6d-4013-c23c-5182373a48dc"
      },
      "execution_count": 119,
      "outputs": [
        {
          "output_type": "stream",
          "name": "stdout",
          "text": [
            "숫자를 입력하시오 : 12\n",
            "1부터 12 까지의 합계 : 78\n"
          ]
        }
      ]
    },
    {
      "cell_type": "markdown",
      "source": [
        "#### 중첩 for문"
      ],
      "metadata": {
        "id": "Xvz0ZSO5DrMH"
      }
    },
    {
      "cell_type": "code",
      "source": [
        "i,j,k=0,0,0\n",
        "k= int(input(\"구구단수 입력: \"))\n",
        "for i in range(k,10,1):\n",
        "  for j in range(1,10,1):\n",
        "    print(\"%d * %d = %2d \" %(i,j,j*i), end='\\t')\n",
        "  print('')"
      ],
      "metadata": {
        "colab": {
          "base_uri": "https://localhost:8080/"
        },
        "id": "UeO8GvPTDqpx",
        "outputId": "12a7db32-559d-4387-d8f9-51592f80712f"
      },
      "execution_count": 244,
      "outputs": [
        {
          "output_type": "stream",
          "name": "stdout",
          "text": [
            "구구단수 입력: 2\n",
            "2 * 1 =  2 \t2 * 2 =  4 \t2 * 3 =  6 \t2 * 4 =  8 \t2 * 5 = 10 \t2 * 6 = 12 \t2 * 7 = 14 \t2 * 8 = 16 \t2 * 9 = 18 \t\n",
            "3 * 1 =  3 \t3 * 2 =  6 \t3 * 3 =  9 \t3 * 4 = 12 \t3 * 5 = 15 \t3 * 6 = 18 \t3 * 7 = 21 \t3 * 8 = 24 \t3 * 9 = 27 \t\n",
            "4 * 1 =  4 \t4 * 2 =  8 \t4 * 3 = 12 \t4 * 4 = 16 \t4 * 5 = 20 \t4 * 6 = 24 \t4 * 7 = 28 \t4 * 8 = 32 \t4 * 9 = 36 \t\n",
            "5 * 1 =  5 \t5 * 2 = 10 \t5 * 3 = 15 \t5 * 4 = 20 \t5 * 5 = 25 \t5 * 6 = 30 \t5 * 7 = 35 \t5 * 8 = 40 \t5 * 9 = 45 \t\n",
            "6 * 1 =  6 \t6 * 2 = 12 \t6 * 3 = 18 \t6 * 4 = 24 \t6 * 5 = 30 \t6 * 6 = 36 \t6 * 7 = 42 \t6 * 8 = 48 \t6 * 9 = 54 \t\n",
            "7 * 1 =  7 \t7 * 2 = 14 \t7 * 3 = 21 \t7 * 4 = 28 \t7 * 5 = 35 \t7 * 6 = 42 \t7 * 7 = 49 \t7 * 8 = 56 \t7 * 9 = 63 \t\n",
            "8 * 1 =  8 \t8 * 2 = 16 \t8 * 3 = 24 \t8 * 4 = 32 \t8 * 5 = 40 \t8 * 6 = 48 \t8 * 7 = 56 \t8 * 8 = 64 \t8 * 9 = 72 \t\n",
            "9 * 1 =  9 \t9 * 2 = 18 \t9 * 3 = 27 \t9 * 4 = 36 \t9 * 5 = 45 \t9 * 6 = 54 \t9 * 7 = 63 \t9 * 8 = 72 \t9 * 9 = 81 \t\n"
          ]
        }
      ]
    }
  ]
}